{
 "cells": [
  {
   "cell_type": "code",
   "execution_count": 16,
   "id": "b705873a-8c04-4b18-a363-217fbeeca677",
   "metadata": {},
   "outputs": [
    {
     "name": "stderr",
     "output_type": "stream",
     "text": [
      "INFO:httpx:HTTP Request: POST http://localhost:11434/api/chat \"HTTP/1.1 200 OK\"\n"
     ]
    },
    {
     "name": "stdout",
     "output_type": "stream",
     "text": [
      "What a great question!\n",
      "\n",
      "The sky appears blue because of a phenomenon called Rayleigh scattering, named after the British physicist Lord Rayleigh. Here's what happens:\n",
      "\n",
      "1. **Sunlight enters Earth's atmosphere**: When sunlight travels through space, it contains all wavelengths (colors) of visible light.\n",
      "2. **Atmosphere scatters shorter wavelengths**: As sunlight enters our atmosphere, it encounters tiny molecules of gases like nitrogen (N2), oxygen (O2), and others. These molecules are much smaller than the wavelength of light.\n",
      "3. **Blue light is scattered more**: The small molecules scatter shorter wavelengths of light, such as blue and violet, more efficiently than longer wavelengths, like red and orange. This is because the smaller molecules are better at interacting with these shorter wavelengths.\n",
      "4. **Red light continues straight**: Meanwhile, the longer wavelengths of light, like red and orange, continue to travel in a straight line, reaching our eyes from a shorter distance.\n",
      "5. **Our eyes perceive the scattered blue light**: As we look up at the sky, we see the combined effect of all this scattering: more blue light being scattered in all directions, making the sky appear blue.\n",
      "\n",
      "The exact shade of blue can vary depending on several factors:\n",
      "\n",
      "* Time of day: The sky tends to be more blue during sunrise and sunset when the sun is lower in the sky.\n",
      "* Atmospheric conditions: Pollution, dust, and water vapor can scatter light differently, changing the apparent color of the sky.\n",
      "* Altitude: At higher altitudes, the air pressure is lower, which can affect the way light scatters.\n",
      "\n",
      "So, to summarize, the sky appears blue because the tiny molecules in our atmosphere scatter shorter wavelengths of sunlight, like blue and violet, more efficiently than longer wavelengths.\n"
     ]
    }
   ],
   "source": [
    "from ollama import Client\n",
    "\n",
    "def query_llama3(question):\n",
    "    client = Client(host='http://localhost:11434')\n",
    "    response = client.chat(model='llama3', messages=[\n",
    "        {\n",
    "            'role': 'user',\n",
    "            'content': question,\n",
    "        },\n",
    "    ])\n",
    "    return response\n",
    "\n",
    "if __name__ == \"__main__\":\n",
    "    question = \"Why is the sky blue?\"\n",
    "    response = query_llama3(question)['message']['content']\n",
    "    print(response)\n"
   ]
  },
  {
   "cell_type": "code",
   "execution_count": null,
   "id": "8962c895-ee0f-4386-b06a-11f34e85ceb1",
   "metadata": {},
   "outputs": [],
   "source": []
  }
 ],
 "metadata": {
  "kernelspec": {
   "display_name": "Python 3 (ipykernel)",
   "language": "python",
   "name": "python3"
  },
  "language_info": {
   "codemirror_mode": {
    "name": "ipython",
    "version": 3
   },
   "file_extension": ".py",
   "mimetype": "text/x-python",
   "name": "python",
   "nbconvert_exporter": "python",
   "pygments_lexer": "ipython3",
   "version": "3.10.12"
  }
 },
 "nbformat": 4,
 "nbformat_minor": 5
}
